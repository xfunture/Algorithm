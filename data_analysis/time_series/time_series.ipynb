{
 "cells": [
  {
   "cell_type": "code",
   "execution_count": 17,
   "metadata": {},
   "outputs": [],
   "source": [
    "import pandas as pd\n",
    "import numpy as np\n",
    "import plotly.graph_objects as go"
   ]
  },
  {
   "cell_type": "code",
   "execution_count": 4,
   "metadata": {},
   "outputs": [],
   "source": [
    "path = '/home/xiejh/PycharmProjects/Btc/huobittrade/binance.csv'"
   ]
  },
  {
   "cell_type": "code",
   "execution_count": 11,
   "metadata": {},
   "outputs": [],
   "source": [
    "df = pd.read_csv(path,delimiter=',')"
   ]
  },
  {
   "cell_type": "code",
   "execution_count": 14,
   "metadata": {},
   "outputs": [],
   "source": [
    "df.columns = ['datetime','open','high','low','close','volumn']"
   ]
  },
  {
   "cell_type": "code",
   "execution_count": 15,
   "metadata": {},
   "outputs": [
    {
     "data": {
      "text/html": [
       "<div>\n",
       "<style scoped>\n",
       "    .dataframe tbody tr th:only-of-type {\n",
       "        vertical-align: middle;\n",
       "    }\n",
       "\n",
       "    .dataframe tbody tr th {\n",
       "        vertical-align: top;\n",
       "    }\n",
       "\n",
       "    .dataframe thead th {\n",
       "        text-align: right;\n",
       "    }\n",
       "</style>\n",
       "<table border=\"1\" class=\"dataframe\">\n",
       "  <thead>\n",
       "    <tr style=\"text-align: right;\">\n",
       "      <th></th>\n",
       "      <th>datetime</th>\n",
       "      <th>open</th>\n",
       "      <th>high</th>\n",
       "      <th>low</th>\n",
       "      <th>close</th>\n",
       "      <th>volumn</th>\n",
       "    </tr>\n",
       "  </thead>\n",
       "  <tbody>\n",
       "    <tr>\n",
       "      <th>0</th>\n",
       "      <td>2020-05-01 00:01:00</td>\n",
       "      <td>8641.80</td>\n",
       "      <td>8670.00</td>\n",
       "      <td>8640.00</td>\n",
       "      <td>8652.21</td>\n",
       "      <td>191.526439</td>\n",
       "    </tr>\n",
       "    <tr>\n",
       "      <th>1</th>\n",
       "      <td>2020-05-01 00:02:00</td>\n",
       "      <td>8653.27</td>\n",
       "      <td>8654.05</td>\n",
       "      <td>8624.94</td>\n",
       "      <td>8627.50</td>\n",
       "      <td>61.080967</td>\n",
       "    </tr>\n",
       "    <tr>\n",
       "      <th>2</th>\n",
       "      <td>2020-05-01 00:03:00</td>\n",
       "      <td>8627.47</td>\n",
       "      <td>8648.96</td>\n",
       "      <td>8625.29</td>\n",
       "      <td>8637.77</td>\n",
       "      <td>57.028320</td>\n",
       "    </tr>\n",
       "    <tr>\n",
       "      <th>3</th>\n",
       "      <td>2020-05-01 00:04:00</td>\n",
       "      <td>8638.38</td>\n",
       "      <td>8650.07</td>\n",
       "      <td>8630.00</td>\n",
       "      <td>8634.33</td>\n",
       "      <td>43.724565</td>\n",
       "    </tr>\n",
       "    <tr>\n",
       "      <th>4</th>\n",
       "      <td>2020-05-01 00:05:00</td>\n",
       "      <td>8634.33</td>\n",
       "      <td>8649.70</td>\n",
       "      <td>8634.12</td>\n",
       "      <td>8639.56</td>\n",
       "      <td>34.801463</td>\n",
       "    </tr>\n",
       "  </tbody>\n",
       "</table>\n",
       "</div>"
      ],
      "text/plain": [
       "              datetime     open     high      low    close      volumn\n",
       "0  2020-05-01 00:01:00  8641.80  8670.00  8640.00  8652.21  191.526439\n",
       "1  2020-05-01 00:02:00  8653.27  8654.05  8624.94  8627.50   61.080967\n",
       "2  2020-05-01 00:03:00  8627.47  8648.96  8625.29  8637.77   57.028320\n",
       "3  2020-05-01 00:04:00  8638.38  8650.07  8630.00  8634.33   43.724565\n",
       "4  2020-05-01 00:05:00  8634.33  8649.70  8634.12  8639.56   34.801463"
      ]
     },
     "execution_count": 15,
     "metadata": {},
     "output_type": "execute_result"
    }
   ],
   "source": [
    "df.head()"
   ]
  },
  {
   "cell_type": "code",
   "execution_count": null,
   "metadata": {},
   "outputs": [],
   "source": [
    "fig = go.Figure(data=[go.Candlestick(x=df['datetime',\n",
    "                      open=df['open'], high=df['high'],\n",
    "                      low=low_data, close=close_data)])\n",
    "fig.show()"
   ]
  }
 ],
 "metadata": {
  "kernelspec": {
   "display_name": "Python 3",
   "language": "python",
   "name": "python3"
  },
  "language_info": {
   "codemirror_mode": {
    "name": "ipython",
    "version": 3
   },
   "file_extension": ".py",
   "mimetype": "text/x-python",
   "name": "python",
   "nbconvert_exporter": "python",
   "pygments_lexer": "ipython3",
   "version": "3.6.7"
  }
 },
 "nbformat": 4,
 "nbformat_minor": 2
}
